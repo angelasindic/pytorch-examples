{
 "cells": [
  {
   "cell_type": "code",
   "execution_count": null,
   "metadata": {},
   "outputs": [],
   "source": [
    "import torch"
   ]
  },
  {
   "cell_type": "code",
   "execution_count": null,
   "metadata": {},
   "outputs": [],
   "source": [
    "def train(model, trainloader, epochs, print_every)\n",
    "    running_losses = []\n",
    "    running_loss = .0\n",
    "    for epoch in range(epochs):\n",
    "\n",
    "        for mini_batch, (images, labels) in enumerate(trainloader, 1):\n",
    "\n",
    "            # Flatten images into a batch_size X (width*height) dim. tensor\n",
    "            images = images.view(images.shape[0], -1)\n",
    "\n",
    "            # clear gradients\n",
    "            optimizer.zero_grad()\n",
    "\n",
    "            output = model.forward(images)\n",
    "            loss = criterion(output, labels)\n",
    "\n",
    "            loss.backward()\n",
    "            optimizer.step()\n",
    "\n",
    "            running_loss+=loss.item()\n",
    "\n",
    "            if mini_batch % print_every == 0:\n",
    "                avg_loss = running_loss/print_every\n",
    "                running_losses.append(avg_loss)\n",
    "                print('Epoch: {}, Batch: {}, Avg. Loss: {}'.format(epoch + 1, mini_batch, avg_loss))\n",
    "                running_loss = .0\n",
    "    return running_losses"
   ]
  }
 ],
 "metadata": {
  "kernelspec": {
   "display_name": "Python 3",
   "language": "python",
   "name": "python3"
  },
  "language_info": {
   "codemirror_mode": {
    "name": "ipython",
    "version": 3
   },
   "file_extension": ".py",
   "mimetype": "text/x-python",
   "name": "python",
   "nbconvert_exporter": "python",
   "pygments_lexer": "ipython3",
   "version": "3.6.8"
  }
 },
 "nbformat": 4,
 "nbformat_minor": 2
}
