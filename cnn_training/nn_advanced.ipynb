{
 "cells": [
  {
   "cell_type": "markdown",
   "metadata": {},
   "source": [
    "## Using DataLoader and Dataset\n",
    "\n",
    "We are using the fashion mnist dataset.\n",
    "https://pytorch.org/docs/master/torchvision/datasets.html\n",
    "\n"
   ]
  },
  {
   "cell_type": "code",
   "execution_count": 2,
   "metadata": {},
   "outputs": [],
   "source": [
    "import torch\n",
    "from torchvision import datasets, transforms\n",
    "from torch.utils.data import DataLoader\n",
    "\n",
    "device = torch.device('cpu')\n",
    "# Define a transform to normalize the data\n",
    "transform = transforms.Compose([transforms.ToTensor(),\n",
    "                                transforms.Normalize(mean=[0.485, 0.456, 0.406], \n",
    "                                                     std=[0.229, 0.224, 0.225])])\n",
    "\n",
    "\n",
    "# Download and load the training data\n",
    "trainset = datasets.MNIST('~/.pytorch/MNIST_data/', download=True, \n",
    "                          train=True, transform=transform)\n",
    "trainloader = DataLoader(trainset, batch_size=64, shuffle=True)"
   ]
  },
  {
   "cell_type": "code",
   "execution_count": 3,
   "metadata": {},
   "outputs": [
    {
     "name": "stdout",
     "output_type": "stream",
     "text": [
      "torch.Size([60000, 784]) torch.Size([60000])\n"
     ]
    }
   ],
   "source": [
    "#flatten x_train 60000x28x28\n",
    "x_train = trainset.train_data.view(trainset.train_data.shape[0], -1).float()\n",
    "y_train = trainset.train_labels\n",
    "print(x_train.shape, y_train.shape)"
   ]
  },
  {
   "cell_type": "code",
   "execution_count": 4,
   "metadata": {},
   "outputs": [
    {
     "data": {
      "text/plain": [
       "<matplotlib.image.AxesImage at 0x12a1a1a58>"
      ]
     },
     "execution_count": 4,
     "metadata": {},
     "output_type": "execute_result"
    },
    {
     "data": {
      "image/png": "[encoded data removed]",
      "text/plain": [
       "<Figure size 432x288 with 1 Axes>"
      ]
     },
     "metadata": {
      "needs_background": "light"
     },
     "output_type": "display_data"
    }
   ],
   "source": [
    "%matplotlib inline\n",
    "\n",
    "from matplotlib import pyplot\n",
    "import numpy as np\n",
    "# each row of x_train conataines a flattend images, we need to reshape it to 28x28 \n",
    "pyplot.imshow(x_train[49948].reshape((28,28)), cmap=\"gray\")"
   ]
  },
  {
   "cell_type": "markdown",
   "metadata": {},
   "source": [
    "We can use `Dataloader` to generate and iterate over batches. A `Dataloader` can be created from any `Dataset`, with an additional parameter `batch_size` that defines the size of the minibatches. "
   ]
  },
  {
   "cell_type": "code",
   "execution_count": 5,
   "metadata": {},
   "outputs": [
    {
     "name": "stdout",
     "output_type": "stream",
     "text": [
      "torch.Size([64, 1, 28, 28])\n",
      "torch.Size([64])\n"
     ]
    }
   ],
   "source": [
    "from torch.utils.data import DataLoader\n",
    "trainloader = DataLoader(trainset, batch_size=64, shuffle=True)\n",
    "train_batches = iter(trainloader)\n",
    "images, labels = train_batches.next()\n",
    "print(images.shape)\n",
    "print(labels.shape)"
   ]
  },
  {
   "cell_type": "markdown",
   "metadata": {},
   "source": [
    "## Using torch.nn.functional\n",
    "Pytroch provides several activation and loss functions in the `torch.nn.functional` module, By convention, this is imported into the namspace `F`.\n",
    "\n",
    "Since we are using negative log likelihood loss and log softmax activation, then Pytorch provides a single function F.cross_entropy that combines the two. So we can even remove the activation function from our model."
   ]
  },
  {
   "cell_type": "code",
   "execution_count": 6,
   "metadata": {},
   "outputs": [],
   "source": [
    "import torch.nn.functional as F\n",
    "loss_func = F.cross_entropy\n",
    "\n",
    "def model(xb): return xb @ weights + bias"
   ]
  },
  {
   "cell_type": "code",
   "execution_count": 7,
   "metadata": {},
   "outputs": [
    {
     "data": {
      "text/plain": [
       "tensor(138.8269, grad_fn=<NllLossBackward>)"
      ]
     },
     "execution_count": 7,
     "metadata": {},
     "output_type": "execute_result"
    }
   ],
   "source": [
    "import math\n",
    "weights = torch.randn(784,10)/math.sqrt(784)\n",
    "weights.requires_grad_()\n",
    "bias = torch.zeros(10, requires_grad=True)\n",
    "loss_func(model(x_train), y_train)"
   ]
  },
  {
   "cell_type": "markdown",
   "metadata": {},
   "source": [
    "## Using torch.nn.Module\n",
    "We'll use nn.Module and nn.Parameter, for a clearer and more concise training loop. We subclass nn.Module (which itself is a class and able to keep track of state). In this case, we want to create a class that holds our weights, bias, and method for the forward step. nn.Module has a number of attributes and methods (such as `.parameters()` and `.zero_grad()`) which we will be using."
   ]
  },
  {
   "cell_type": "code",
   "execution_count": 8,
   "metadata": {},
   "outputs": [],
   "source": [
    "from torch import nn\n",
    "class Logistic_mnist(nn.Module):\n",
    "    def __init__(self):\n",
    "        super().__init__()\n",
    "        self.weights = nn.Parameter(torch.randn(784,10)/math.sqrt(784))\n",
    "        self.bias = nn.Parameter(torch.zeros(10))\n",
    "\n",
    "    def forward(self, xb): return xb @ self.weights + self.bias"
   ]
  },
  {
   "cell_type": "code",
   "execution_count": 9,
   "metadata": {},
   "outputs": [
    {
     "data": {
      "text/plain": [
       "tensor(115.1345, grad_fn=<NllLossBackward>)"
      ]
     },
     "execution_count": 9,
     "metadata": {},
     "output_type": "execute_result"
    }
   ],
   "source": [
    "model = Logistic_mnist()\n",
    "loss_func(model(x_train), y_train)"
   ]
  },
  {
   "cell_type": "markdown",
   "metadata": {},
   "source": [
    "We can simplify training using `Dataloader` and `Logistic_minist` model. Here we will define a function `fit()` for that purpose."
   ]
  },
  {
   "cell_type": "code",
   "execution_count": 10,
   "metadata": {},
   "outputs": [],
   "source": [
    "def fit(model, dataloader, epochs, lr):\n",
    "    for epoch in range(epochs):\n",
    "        for x_train, y_train in dataloader:\n",
    "            x_train = x_train.view(x_train.shape[0], -1)\n",
    "            preds = model(x_train)\n",
    "            loss = loss_func(preds, y_train)\n",
    "            \n",
    "            loss.backward()\n",
    "            with torch.no_grad():\n",
    "                for p in model.parameters(): p -= p.grad * lr\n",
    "                model.zero_grad()"
   ]
  },
  {
   "cell_type": "code",
   "execution_count": 12,
   "metadata": {},
   "outputs": [],
   "source": [
    "lr = 0.5   # learning rate\n",
    "epochs = 3 # how many epochs to train for\n",
    "model = Logistic_mnist()\n",
    "dataloader = DataLoader(trainset, batch_size=64, shuffle=True)\n",
    "\n",
    "fit(model, dataloader, epochs, lr)"
   ]
  },
  {
   "cell_type": "markdown",
   "metadata": {},
   "source": [
    "## Using nn.Linear\n",
    "Using predefined `Linear` for the linear layer, simplifies model definition and `fit()` will run faster. We will also flatten the input for the linear layer in the `forward()` method.\n",
    "So the input should have size `64x1x28x28` which will be handy when we add a convolutional layer."
   ]
  },
  {
   "cell_type": "code",
   "execution_count": 23,
   "metadata": {},
   "outputs": [],
   "source": [
    "class Logistic_mnist(nn.Module):\n",
    "    def __init__(self):\n",
    "        super().__init__()\n",
    "        self.fc = nn.Linear(784,10)\n",
    "        \n",
    "    def forward(self, x): \n",
    "        #flatten x before linear layer\n",
    "        x = x.view(x.shape[0], -1)\n",
    "        return self.fc(x)\n",
    "    \n",
    "def fit(model, dataloader, epochs, lr):\n",
    "    for epoch in range(epochs):\n",
    "        for x_train, y_train in dataloader:\n",
    "            preds = model(x_train)\n",
    "            loss = loss_func(preds, y_train)\n",
    "            \n",
    "            loss.backward()\n",
    "            with torch.no_grad():\n",
    "                for p in model.parameters(): p -= p.grad * lr\n",
    "                model.zero_grad()"
   ]
  },
  {
   "cell_type": "code",
   "execution_count": 24,
   "metadata": {},
   "outputs": [],
   "source": [
    "lr = 0.5   # learning rate\n",
    "epochs = 3 # how many epochs to train for\n",
    "model = Logistic_mnist()\n",
    "\n",
    "fit(model, dataloader, epochs, lr)"
   ]
  },
  {
   "cell_type": "markdown",
   "metadata": {},
   "source": [
    "## Using optim\n",
    "\n",
    "Pytorch also has a package with various optimization algorithms, torch.optim. We can use the step method from our optimizer to take a forward step, instead of manually updating each parameter."
   ]
  },
  {
   "cell_type": "code",
   "execution_count": 31,
   "metadata": {},
   "outputs": [],
   "source": [
    "from torch import optim\n",
    "\n",
    "def get_model(lr):\n",
    "    model = Logistic_mnist()\n",
    "    return model, optim.SGD(model.parameters(), lr=lr)\n",
    "\n",
    "def fit(model, opt, dataloader, epochs):\n",
    "    for epoch in range(epochs):\n",
    "        for x_train, y_train in dataloader:\n",
    "            preds = model(x_train)\n",
    "            loss = loss_func(preds, y_train)\n",
    "            \n",
    "            loss.backward()\n",
    "            opt.step()\n",
    "            opt.zero_grad()"
   ]
  },
  {
   "cell_type": "code",
   "execution_count": 32,
   "metadata": {},
   "outputs": [],
   "source": [
    "lr = 0.5\n",
    "epochs = 3\n",
    "model, opt = get_model(lr)\n",
    "fit(model, opt, dataloader, epochs)"
   ]
  },
  {
   "cell_type": "markdown",
   "metadata": {},
   "source": [
    "## Validation\n",
    "It is important to use separate data sets for training and validation. Doing so, we will be able to determine if we are overfitting. Also, shuffling of the training data is important to reduce the correlation between batches, wheras this is not necessary for the validation set."
   ]
  },
  {
   "cell_type": "code",
   "execution_count": 35,
   "metadata": {},
   "outputs": [],
   "source": [
    "from torchvision import datasets, transforms\n",
    "from torch.utils.data import DataLoader\n",
    "\n",
    "device = torch.device('cpu')\n",
    "\n",
    "# Define a transform to normalize the data\n",
    "transform = transforms.Compose([transforms.ToTensor(),\n",
    "                                transforms.Normalize(mean=[0.485, 0.456, 0.406], \n",
    "                                                     std=[0.229, 0.224, 0.225])])\n",
    "trainset = datasets.MNIST('~/.pytorch/MNIST_data/', download=True, \n",
    "                          train=True, transform=transform)\n",
    "\n",
    "train_dl = DataLoader(trainset, batch_size=64)\n",
    "validationset = datasets.MNIST('~/.pytorch/MNIST_data/', download=True, \n",
    "                          train=False, transform=transform)\n",
    "validation_dl = DataLoader(validationset, batch_size=128)"
   ]
  },
  {
   "cell_type": "markdown",
   "metadata": {},
   "source": [
    "Be aware of using `model.train()` and `model.eval()` in the `fit()` function!\n",
    "\n",
    "By default all the modules are initialized to train mode (self.training = True). Some layers might have different behavior during train/and evaluation (like BatchNorm, Dropout) so setting it matters."
   ]
  },
  {
   "cell_type": "code",
   "execution_count": 42,
   "metadata": {},
   "outputs": [
    {
     "name": "stdout",
     "output_type": "stream",
     "text": [
      "0 10.357490782928467\n",
      "1 5.42783166809082\n",
      "2 5.9633808494567875\n",
      "3 5.46928278503418\n",
      "4 6.572009448242188\n",
      "5 5.078942433929443\n",
      "6 4.712965372085571\n",
      "7 6.043066973876953\n",
      "8 5.022225035858154\n",
      "9 5.165457396316528\n"
     ]
    }
   ],
   "source": [
    "import torch\n",
    "import torch.nn.functional as F\n",
    "from torch import optim\n",
    "\n",
    "def get_model(lr):\n",
    "    model = Logistic_mnist()\n",
    "    return model, optim.SGD(model.parameters(), lr=lr)\n",
    "\n",
    "def calculate_loss(model, loss_func, x_train, y_train, opt=None):\n",
    "    loss = loss_func(model(x_train), y_train)\n",
    "    if opt is not None:\n",
    "        loss.backward()\n",
    "        opt.step()\n",
    "        opt.zero_grad()\n",
    "    return loss.item(), len(x_train)\n",
    "\n",
    "def fit(model, opt, loss_func, train_dl, validation_dl, epochs):\n",
    "    for epoch in range(epochs):\n",
    "        model.train()\n",
    "        for x_train, y_train in train_dl:\n",
    "            calculate_loss(model, loss_func, x_train, y_train, opt)\n",
    "        \n",
    "        model.eval()\n",
    "        with torch.no_grad():\n",
    "            losses, nums = \\\n",
    "            zip(*[calculate_loss(model, loss_func, x, y) for x, y in validation_dl])\n",
    "        val_loss = np.sum(np.multiply(losses,nums)) / np.sum(nums)\n",
    "        \n",
    "        print(epoch, val_loss)\n",
    "    \n",
    "loss_func = F.cross_entropy\n",
    "lr = 0.5\n",
    "epochs = 10\n",
    "model, opt = get_model(lr)\n",
    "fit(model, opt, loss_func, train_dl, validation_dl, epochs)"
   ]
  },
  {
   "cell_type": "code",
   "execution_count": 56,
   "metadata": {},
   "outputs": [
    {
     "name": "stdout",
     "output_type": "stream",
     "text": [
      "(1, 1, 4)\n",
      "(2, 10, 5)\n",
      "(3, 100, 6)\n",
      "<zip object at 0x131b8d788>\n",
      "(1, 2, 3)\n",
      "(10, 20, 30)\n"
     ]
    }
   ],
   "source": [
    "a = [1,2,3]\n",
    "b = [1,10,100]\n",
    "c = [4,5,6,7]\n",
    "r = zip(a,b,c)\n",
    "for i in r:\n",
    "    print(i)\n",
    "    \n",
    "vls = [(1,10), (2,20), (3,30)]\n",
    "rs =zip(*vls)\n",
    "rs = zip((1,10), (2,20), (3,30))\n",
    "print(rs)\n",
    "for j in rs:\n",
    "    print(j)"
   ]
  },
  {
   "cell_type": "code",
   "execution_count": null,
   "metadata": {},
   "outputs": [],
   "source": []
  }
 ],
 "metadata": {
  "kernelspec": {
   "display_name": "Python 3",
   "language": "python",
   "name": "python3"
  },
  "language_info": {
   "codemirror_mode": {
    "name": "ipython",
    "version": 3
   },
   "file_extension": ".py",
   "mimetype": "text/x-python",
   "name": "python",
   "nbconvert_exporter": "python",
   "pygments_lexer": "ipython3",
   "version": "3.6.8"
  }
 },
 "nbformat": 4,
 "nbformat_minor": 2
}
