{
 "cells": [
  {
   "cell_type": "code",
   "execution_count": 3,
   "metadata": {},
   "outputs": [
    {
     "name": "stdout",
     "output_type": "stream",
     "text": [
      "tensor(2.5000)\n",
      "tensor(1.2910)\n",
      "tensor([-1.1619, -0.3873,  0.3873,  1.1619])\n",
      "2.5\n",
      "1.118033988749895\n",
      "[-1.34164079 -0.4472136   0.4472136   1.34164079]\n"
     ]
    }
   ],
   "source": [
    "import numpy as np\n",
    "import torch\n",
    "\n",
    "# the difference lies in the fact that, by default when computing the standard deviation, \n",
    "# NumPy does not employ the Bessel correction but PyTorch does.\n",
    "rewards = [ 1,  2,  3, 4]\n",
    "rewards_tensor = torch.FloatTensor(rewards)\n",
    "print(rewards_tensor.mean())\n",
    "print(rewards_tensor.std())\n",
    "\n",
    "normalized_tensor = (rewards_tensor - rewards_tensor.mean())/rewards_tensor.std()\n",
    "print(normalized_tensor)\n",
    "rewards_np = np.array(rewards)\n",
    "print(rewards_np.mean())\n",
    "print(rewards_np.std())\n",
    "\n",
    "normalized_np_array = (rewards_np - rewards_np.mean())/rewards_np.std()\n",
    "print(normalized_np_array)"
   ]
  },
  {
   "cell_type": "code",
   "execution_count": null,
   "metadata": {},
   "outputs": [],
   "source": []
  }
 ],
 "metadata": {
  "kernelspec": {
   "display_name": "Python 3",
   "language": "python",
   "name": "python3"
  },
  "language_info": {
   "codemirror_mode": {
    "name": "ipython",
    "version": 3
   },
   "file_extension": ".py",
   "mimetype": "text/x-python",
   "name": "python",
   "nbconvert_exporter": "python",
   "pygments_lexer": "ipython3",
   "version": "3.6.4"
  }
 },
 "nbformat": 4,
 "nbformat_minor": 2
}
