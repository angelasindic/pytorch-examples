{
 "cells": [
  {
   "cell_type": "code",
   "execution_count": 1,
   "metadata": {},
   "outputs": [],
   "source": [
    "import numpy as np"
   ]
  },
  {
   "cell_type": "code",
   "execution_count": 20,
   "metadata": {},
   "outputs": [],
   "source": [
    "def linear(a,b,x):\n",
    "    return a*x + b\n",
    "\n",
    "lin = lambda x: linear(1,3,x)\n",
    "\n",
    "def sigmoid(f):\n",
    "    return lambda x: 1/(1+np.exp(f(-x)))\n",
    "\n",
    "sigmoid_lin = sigmoid(lin)\n"
   ]
  },
  {
   "cell_type": "code",
   "execution_count": 21,
   "metadata": {},
   "outputs": [
    {
     "name": "stdout",
     "output_type": "stream",
     "text": [
      "0.9990889488055994\n"
     ]
    }
   ],
   "source": [
    "print(sigmoid_lin(10))\n",
    "#sigmoid = lambda x: 1 / (1 + np.exp(-x))\n",
    "x=np.linspace(-10,10,10)\n",
    "y=np.linspace(-10,10,100)\n",
    "#plot(x,sigmoid_lin(x),'r', label='linspace(-10,10,10)')\n",
    "#plot(y,sigmoid_lin(y),'b', label='linspace(-10,10,100)')\n",
    "#grid()\n",
    "#xlabel('X Axis')\n",
    "#ylabel('Y Axis')\n",
    "#title('Sigmoid Function')\n",
    "#suptitle('Sigmoid')\n"
   ]
  },
  {
   "cell_type": "code",
   "execution_count": null,
   "metadata": {},
   "outputs": [],
   "source": []
  }
 ],
 "metadata": {
  "kernelspec": {
   "display_name": "Python 3",
   "language": "python",
   "name": "python3"
  },
  "language_info": {
   "codemirror_mode": {
    "name": "ipython",
    "version": 3
   },
   "file_extension": ".py",
   "mimetype": "text/x-python",
   "name": "python",
   "nbconvert_exporter": "python",
   "pygments_lexer": "ipython3",
   "version": "3.7.0"
  }
 },
 "nbformat": 4,
 "nbformat_minor": 2
}
