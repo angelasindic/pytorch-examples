{
 "cells": [
  {
   "cell_type": "code",
   "execution_count": 4,
   "metadata": {},
   "outputs": [],
   "source": [
    "import numpy as np\n",
    "\n",
    "import matplotlib.pyplot as plt\n",
    "%matplotlib inline"
   ]
  },
  {
   "cell_type": "code",
   "execution_count": 5,
   "metadata": {},
   "outputs": [],
   "source": [
    "def linear(a,b,x):\n",
    "    return a*x + b\n",
    "\n",
    "lin = lambda x: linear(1,3,x)\n",
    "\n",
    "def sigmoid(f):\n",
    "    return lambda x: 1/(1+np.exp(f(-x)))\n",
    "\n",
    "sigmoid_lin = sigmoid(lin)\n"
   ]
  },
  {
   "cell_type": "code",
   "execution_count": null,
   "metadata": {},
   "outputs": [],
   "source": [
    "x=np.linspace(-10,10,10)\n",
    "y=np.linspace(-10,10,100)\n",
    "plt.plot(x,sigmoid_lin(x),'r', label='linspace(-10,10,10)')\n",
    "plt.plot(y,sigmoid_lin(y),'b', label='linspace(-10,10,100)')\n",
    "plt.grid()\n",
    "plt.xlabel('X Axis')\n",
    "plt.ylabel('Y Axis')\n",
    "plt.title('Sigmoid Function')\n",
    "plt.suptitle('Sigmoid')\n"
   ]
  }
 ],
 "metadata": {
  "kernelspec": {
   "display_name": "Python 3",
   "language": "python",
   "name": "python3"
  },
  "language_info": {
   "codemirror_mode": {
    "name": "ipython",
    "version": 3
   },
   "file_extension": ".py",
   "mimetype": "text/x-python",
   "name": "python",
   "nbconvert_exporter": "python",
   "pygments_lexer": "ipython3",
   "version": "3.7.0"
  }
 },
 "nbformat": 4,
 "nbformat_minor": 2
}
